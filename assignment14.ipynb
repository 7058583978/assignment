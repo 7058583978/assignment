{
 "cells": [
  {
   "cell_type": "code",
   "execution_count": null,
   "id": "4ce91648-4b9d-4e1d-b799-82ae94fb02ad",
   "metadata": {},
   "outputs": [],
   "source": [
    "Q1. what is multithreading in python? why is it used? Name the module used to handle threads in python :"
   ]
  },
  {
   "cell_type": "code",
   "execution_count": null,
   "id": "13b3cac2-9557-4d99-a424-0fb9c6c2b95a",
   "metadata": {},
   "outputs": [],
   "source": [
    "ans] the process of running single process in multiple layers is called multithreading....\n",
    "  --->  by multithreading we can increse the efficiency and reduce the time of completion of programme....\n",
    "  ---> we use threading module to implement threading  "
   ]
  },
  {
   "cell_type": "code",
   "execution_count": null,
   "id": "833b36d6-dd7d-464a-a47d-ee20609683c0",
   "metadata": {},
   "outputs": [],
   "source": [
    "Q2.why threading module used? write the use of the following functions :\n",
    "1. activeCount()\n",
    "2. currentThread()\n",
    "3. enumerate()"
   ]
  },
  {
   "cell_type": "code",
   "execution_count": null,
   "id": "66527f41-2a31-4df4-8e9e-422379c66a02",
   "metadata": {},
   "outputs": [],
   "source": [
    "ans] when we have to run single process in multiple paths or say processes then we use \n",
    "     multithreading and each process is called thread\n",
    "    \n",
    "1. activeCount() : this is a function which gives the number of active threads in a programme\n",
    "2. currentThread() : it gives the reference to the currently working object of a thread\n",
    "3. enumerate() : it takes a list of different items and returns by enumerating them "
   ]
  },
  {
   "cell_type": "code",
   "execution_count": null,
   "id": "c959b7c3-965c-4e81-90e5-3ec4caaf6530",
   "metadata": {},
   "outputs": [],
   "source": [
    "Q3. Explain the following functions\n",
    "1.run\n",
    "2.start\n",
    "3.join\n",
    "4.isAlive"
   ]
  },
  {
   "cell_type": "code",
   "execution_count": null,
   "id": "16817744-591a-44da-b406-d1b9c4cc930f",
   "metadata": {},
   "outputs": [],
   "source": [
    "1.run : run function constitute a code which contains a new code or say thread whole function\n",
    "comes under run or thread comes under run function\n",
    "\n",
    "2.start: start function helps to execute the thread exist in run start function seperately\n",
    "does not give any output it just helps to start thr programme\n",
    "\n",
    "3.join : suppose a programme is running and we have to terminate the programme in order to insert a new output\n",
    "then join terminates the ongoing programme before next instuction comes and function under join executes\n",
    "\n",
    "4.isAlive : this function tells us about the programme is still running or dead \n",
    "it gives true if programme is alive and viceversa"
   ]
  },
  {
   "cell_type": "code",
   "execution_count": null,
   "id": "12392857-60ce-490a-ac79-22f4b671fd44",
   "metadata": {},
   "outputs": [],
   "source": [
    "Q4.write a python program to create two threads. Thread one must print the list of squares and thread\n",
    "two must print the list of cubes"
   ]
  },
  {
   "cell_type": "code",
   "execution_count": 47,
   "id": "4d761fc2-dbe5-41cc-838b-88c87d11d00f",
   "metadata": {},
   "outputs": [
    {
     "name": "stdout",
     "output_type": "stream",
     "text": [
      "0  1  4  9  16  25  36  49  64  81  100  \n",
      "0 1 8 27 64 125 216 343 512 729 1000 "
     ]
    }
   ],
   "source": [
    "import threading\n",
    "def square(x) :\n",
    "    print(x**2, ' ', end='')\n",
    "\n",
    "thread1 = [threading.Thread(target = square , args=(i,)) for i in range(11)]\n",
    "for t in thread1 :\n",
    "    t.start()\n",
    "\n",
    "print()   \n",
    "\n",
    "\n",
    "def cube(y) :\n",
    "    print(y**3,'',end='')\n",
    "\n",
    "thread2 = [threading.Thread(target = cube , args=(r,)) for r in range(11)]\n",
    "for c in thread2 :\n",
    "    c.start()"
   ]
  },
  {
   "cell_type": "code",
   "execution_count": null,
   "id": "0d42531f-0327-4972-b24d-041c5f5b736a",
   "metadata": {},
   "outputs": [],
   "source": [
    "Q5. State advantages and disadvantages of multithreading."
   ]
  },
  {
   "cell_type": "code",
   "execution_count": null,
   "id": "ac5961ac-425f-4b62-862a-bc250f4b97e4",
   "metadata": {},
   "outputs": [],
   "source": [
    "ans] advantages :\n",
    "1.we can execute a code in efficient manner and fast \n",
    "2.we can devide complex programme into simple threads\n",
    "3.we can utilize our full potential to runa single programme\n",
    "\n",
    "disadvantages :\n",
    "\n",
    "1.it is difficult to debugg a programme\n",
    "2.synchronization of threads is a extra work for developers\n",
    "3.due to threads resources gets blocked"
   ]
  },
  {
   "cell_type": "code",
   "execution_count": null,
   "id": "738ca566-7247-49b3-9aa0-8637117f7cdc",
   "metadata": {},
   "outputs": [],
   "source": [
    "Q6. Explain deadlocks and race conditions."
   ]
  },
  {
   "cell_type": "code",
   "execution_count": null,
   "id": "054dacd1-3ae0-4df2-8b9f-3c48f86b55b2",
   "metadata": {},
   "outputs": [],
   "source": [
    "ans] deadlocks : it is a condition when two threads are waiting for each other to execute\n",
    "the output with same input and they will wait infinitely so it gives error\n",
    "\n",
    "race : when both threads executes in same time and data curruption takes place for example let us consider\n",
    "in a bank 100 rs present then two different person deposites 100 rs then in bank amount collected\n",
    "should be 300 rs but it shows only 200 rs"
   ]
  }
 ],
 "metadata": {
  "kernelspec": {
   "display_name": "Python 3 (ipykernel)",
   "language": "python",
   "name": "python3"
  },
  "language_info": {
   "codemirror_mode": {
    "name": "ipython",
    "version": 3
   },
   "file_extension": ".py",
   "mimetype": "text/x-python",
   "name": "python",
   "nbconvert_exporter": "python",
   "pygments_lexer": "ipython3",
   "version": "3.10.8"
  }
 },
 "nbformat": 4,
 "nbformat_minor": 5
}
