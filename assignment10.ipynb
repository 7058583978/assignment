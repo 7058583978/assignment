{
 "cells": [
  {
   "cell_type": "code",
   "execution_count": null,
   "id": "ed59c0ef-986e-400e-a2f6-67a8ac98bfcf",
   "metadata": {},
   "outputs": [],
   "source": [
    "Q1. Create a vehicle class with an init method having instance variables as name_of_vehicle, max_speed\n",
    "    and average_of_vehicle."
   ]
  },
  {
   "cell_type": "code",
   "execution_count": 12,
   "id": "38026a4e-cda2-46fc-b7c0-4483bdef051d",
   "metadata": {},
   "outputs": [],
   "source": [
    "class vehicle :\n",
    "    def __init__(self , name_of_vehicle, max_speed,average_of_vehicle):\n",
    "        self.name_of_vehicle =  name_of_vehicle\n",
    "        self.max_speed = max_speed\n",
    "        self.average_of_vehicle = average_of_vehicle\n",
    "    def return_specification(self) :\n",
    "        return self.name_of_vehicle"
   ]
  },
  {
   "cell_type": "code",
   "execution_count": null,
   "id": "85a27f45-3447-4fbc-bb50-8a9bf097fb72",
   "metadata": {},
   "outputs": [],
   "source": [
    "Q2. Create a child class car from the vehicle class created in Que 1, which will inherit the vehicle class.\n",
    "    Create a method named seating_capacity which takes capacity as an argument and returns the name of\n",
    "    the vehicle and its seating capacity."
   ]
  },
  {
   "cell_type": "code",
   "execution_count": 35,
   "id": "339fd04a-53ef-4572-bda7-d5aeaece6c1f",
   "metadata": {},
   "outputs": [],
   "source": [
    "class car(vehicle):\n",
    "    def seating_capacity(self,capacity):\n",
    "        self.capacity = capacity\n",
    "        print('your car' ,self.name_of_vehicle, 'has capacity of', self.capacity, 'passengers' )   "
   ]
  },
  {
   "cell_type": "code",
   "execution_count": 36,
   "id": "b2acffa0-2792-4840-9ce7-cfe7cd874701",
   "metadata": {},
   "outputs": [],
   "source": [
    "car1 = car('innova','200','12')"
   ]
  },
  {
   "cell_type": "code",
   "execution_count": 37,
   "id": "3209d4ec-510d-4e1e-b5f6-d7e1477b03fa",
   "metadata": {},
   "outputs": [
    {
     "name": "stdout",
     "output_type": "stream",
     "text": [
      "your car innova has capacity of 5 passengers\n"
     ]
    }
   ],
   "source": [
    "car1.seating_capacity(5)"
   ]
  },
  {
   "cell_type": "code",
   "execution_count": null,
   "id": "36bd757f-7b43-47d4-b72a-8a092cbd8e50",
   "metadata": {},
   "outputs": [],
   "source": [
    "Q3. What is multiple inheritance? Write a python code to demonstrate multiple inheritance."
   ]
  },
  {
   "cell_type": "code",
   "execution_count": null,
   "id": "9a724d6d-0b44-4d17-9da1-e8e5aecc8113",
   "metadata": {},
   "outputs": [],
   "source": [
    "ans] when one class grabs the property from more than one classes then it is called as miltiple\n",
    "     inheritance for example child takes behaviour of mother and father hence child comes\n",
    "     under multiple inheritance of two parent classes mother and father"
   ]
  },
  {
   "cell_type": "code",
   "execution_count": 44,
   "id": "d6fa6367-c242-405a-9de1-6bb29411e795",
   "metadata": {},
   "outputs": [],
   "source": [
    "class father :\n",
    "    def role1(self):\n",
    "        return 'i am your father'\n",
    "    \n",
    "class mother :\n",
    "    def role2(self):\n",
    "         return 'i am your father'\n",
    "\n",
    "class child(father,mother):\n",
    "        pass"
   ]
  },
  {
   "cell_type": "code",
   "execution_count": 45,
   "id": "c20f4bea-869c-47dc-8e0b-08d59d98bc94",
   "metadata": {},
   "outputs": [],
   "source": [
    "me = child()"
   ]
  },
  {
   "cell_type": "code",
   "execution_count": 48,
   "id": "e6471929-a167-4dc0-9038-eb357855018c",
   "metadata": {},
   "outputs": [
    {
     "data": {
      "text/plain": [
       "('i am your father', 'i am your father')"
      ]
     },
     "execution_count": 48,
     "metadata": {},
     "output_type": "execute_result"
    }
   ],
   "source": [
    "me.role1(),me.role2()"
   ]
  },
  {
   "cell_type": "code",
   "execution_count": null,
   "id": "ba221e57-6ffc-40c3-98f2-ab0e7264e09d",
   "metadata": {},
   "outputs": [],
   "source": [
    "Q4. What are getter and setter in python? Create a class and create a getter and a setter method in this\n",
    "    class."
   ]
  },
  {
   "cell_type": "code",
   "execution_count": null,
   "id": "886f2f4d-0b86-4179-bce3-1963aca54e6c",
   "metadata": {},
   "outputs": [],
   "source": [
    "ans] getters and setters are the property decorators\n",
    "     when we restrict the user from accesing some perticular method but in any other circumstances we \n",
    "     can allow the user to change in function using getters and setters "
   ]
  },
  {
   "cell_type": "code",
   "execution_count": 72,
   "id": "fcc53caa-37ab-4b1b-81a2-abeb36d64c94",
   "metadata": {},
   "outputs": [],
   "source": [
    "class resume :\n",
    "    \n",
    "    def __init__(self,name,age,number):\n",
    "        self.name=name\n",
    "        self.__age=age\n",
    "        self.number=number\n",
    "    \n",
    "    @property\n",
    "    def age_access(self):\n",
    "        return self.__age\n",
    "    \n",
    "#now we are going to implement setter if user wants to change age\n",
    "    @age_access.setter\n",
    "    def age_change(self,c_age):\n",
    "        if c_age<0 :\n",
    "            pass\n",
    "        else :\n",
    "            self.__age=c_age\n",
    "    \n",
    "    \n",
    "        "
   ]
  },
  {
   "cell_type": "code",
   "execution_count": 73,
   "id": "577ba970-a320-4b02-be5c-ea54ee660ad3",
   "metadata": {},
   "outputs": [],
   "source": [
    "me = resume('bala','23','7058583978')"
   ]
  },
  {
   "cell_type": "code",
   "execution_count": 74,
   "id": "990fefb3-9f6e-43ae-ad3b-35430f35bd29",
   "metadata": {},
   "outputs": [
    {
     "data": {
      "text/plain": [
       "'23'"
      ]
     },
     "execution_count": 74,
     "metadata": {},
     "output_type": "execute_result"
    }
   ],
   "source": [
    "me.age_access"
   ]
  },
  {
   "cell_type": "code",
   "execution_count": 77,
   "id": "e7707376-1bb0-465f-9deb-6eb3a43c9639",
   "metadata": {},
   "outputs": [],
   "source": [
    "#here we have set the age to 32\n",
    "me.age_change=32"
   ]
  },
  {
   "cell_type": "code",
   "execution_count": 76,
   "id": "4f31a6de-9dd0-43c4-94ea-13d8d9b68223",
   "metadata": {},
   "outputs": [
    {
     "data": {
      "text/plain": [
       "32"
      ]
     },
     "execution_count": 76,
     "metadata": {},
     "output_type": "execute_result"
    }
   ],
   "source": [
    "me.age_access"
   ]
  },
  {
   "cell_type": "code",
   "execution_count": null,
   "id": "8c1ebb2d-23a9-4c7f-90ce-39d10d388af9",
   "metadata": {},
   "outputs": [],
   "source": [
    "Q5.What is method overriding in python? Write a python code to demonstrate method overriding."
   ]
  },
  {
   "cell_type": "code",
   "execution_count": 79,
   "id": "61f9a37b-1c94-4b8c-bf8b-c0804882a6fa",
   "metadata": {},
   "outputs": [],
   "source": [
    "class information :\n",
    "    def __init__(self,name,number,age,height):\n",
    "        self.name=name\n",
    "        self.number=number\n",
    "        self.age=age\n",
    "        self.height=height\n",
    "    @classmethod\n",
    "    def details(cls,name,number,age,height):\n",
    "        return cls(name,number,age,height)\n",
    "    #if we want to call below function then we need to call object first\n",
    "    def st_details(self):\n",
    "        return self.name,self.number,self.age,self.height \n",
    "    #if we want to execute above function we dont need object this is called method overriding"
   ]
  },
  {
   "cell_type": "code",
   "execution_count": 87,
   "id": "93757f58-7b2c-470f-b8b8-d68ea50236f6",
   "metadata": {},
   "outputs": [],
   "source": [
    "bala=information.details('balasaheb','7058583978','25','180')"
   ]
  },
  {
   "cell_type": "code",
   "execution_count": 92,
   "id": "a8058044-4450-44f9-a42c-b75307b8503e",
   "metadata": {},
   "outputs": [
    {
     "data": {
      "text/plain": [
       "('balasaheb', '7058583978', '25', '180')"
      ]
     },
     "execution_count": 92,
     "metadata": {},
     "output_type": "execute_result"
    }
   ],
   "source": [
    "bala.st_details()"
   ]
  },
  {
   "cell_type": "code",
   "execution_count": 93,
   "id": "495b6f1d-1f61-470a-9cdf-e65f37af8fef",
   "metadata": {},
   "outputs": [
    {
     "data": {
      "text/plain": [
       "'balasaheb'"
      ]
     },
     "execution_count": 93,
     "metadata": {},
     "output_type": "execute_result"
    }
   ],
   "source": [
    "bala.name"
   ]
  },
  {
   "cell_type": "code",
   "execution_count": null,
   "id": "4596f503-020e-4a48-b0fd-4369f0665f11",
   "metadata": {},
   "outputs": [],
   "source": []
  }
 ],
 "metadata": {
  "kernelspec": {
   "display_name": "Python 3 (ipykernel)",
   "language": "python",
   "name": "python3"
  },
  "language_info": {
   "codemirror_mode": {
    "name": "ipython",
    "version": 3
   },
   "file_extension": ".py",
   "mimetype": "text/x-python",
   "name": "python",
   "nbconvert_exporter": "python",
   "pygments_lexer": "ipython3",
   "version": "3.10.8"
  }
 },
 "nbformat": 4,
 "nbformat_minor": 5
}
