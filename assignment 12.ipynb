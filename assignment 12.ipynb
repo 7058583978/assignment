{
 "cells": [
  {
   "cell_type": "code",
   "execution_count": null,
   "id": "59b431ab-309a-4388-a427-7e5c98956c56",
   "metadata": {},
   "outputs": [],
   "source": [
    "Q1. What is an Exception in python? Write the difference between Exceptions and syntax errors ."
   ]
  },
  {
   "cell_type": "code",
   "execution_count": null,
   "id": "f659cce6-b6f8-4470-a5f5-f69f63c3c5d7",
   "metadata": {},
   "outputs": [],
   "source": [
    "ans : exception is a error that occurs during running or normal flow of programme\n",
    "\n",
    "syntax error occurs when compiler detects an improper keywords or code with irregular tabs \n",
    "while exception is a type of error which may  be arises even if all the syntax are correct\n"
   ]
  },
  {
   "cell_type": "code",
   "execution_count": null,
   "id": "aa7189ee-8ef2-463f-b972-fd6109a17f86",
   "metadata": {},
   "outputs": [],
   "source": [
    "Q2.what happens when exception is not handled explain with example."
   ]
  },
  {
   "cell_type": "code",
   "execution_count": null,
   "id": "30a4eb74-789d-4326-addc-5b9608a4301a",
   "metadata": {},
   "outputs": [],
   "source": [
    "ans : if we do not handle the exception then the whole programme collapses "
   ]
  },
  {
   "cell_type": "code",
   "execution_count": 3,
   "id": "c57b7888-0ac1-45c4-a01f-12ca8db93d3d",
   "metadata": {},
   "outputs": [
    {
     "ename": "FileNotFoundError",
     "evalue": "[Errno 2] No such file or directory: 'bala.txt'",
     "output_type": "error",
     "traceback": [
      "\u001b[0;31m---------------------------------------------------------------------------\u001b[0m",
      "\u001b[0;31mFileNotFoundError\u001b[0m                         Traceback (most recent call last)",
      "Cell \u001b[0;32mIn[3], line 1\u001b[0m\n\u001b[0;32m----> 1\u001b[0m f \u001b[38;5;241m=\u001b[39m \u001b[38;5;28;43mopen\u001b[39;49m\u001b[43m(\u001b[49m\u001b[38;5;124;43m'\u001b[39;49m\u001b[38;5;124;43mbala.txt\u001b[39;49m\u001b[38;5;124;43m'\u001b[39;49m\u001b[43m,\u001b[49m\u001b[38;5;124;43m'\u001b[39;49m\u001b[38;5;124;43mr\u001b[39;49m\u001b[38;5;124;43m'\u001b[39;49m\u001b[43m)\u001b[49m\n\u001b[1;32m      2\u001b[0m f\u001b[38;5;241m.\u001b[39mwrite(\u001b[38;5;124m'\u001b[39m\u001b[38;5;124mmy name is balasaheb\u001b[39m\u001b[38;5;124m'\u001b[39m)\n\u001b[1;32m      4\u001b[0m \u001b[38;5;66;03m# in above example we have called the file in readind mode before writing so gives error \u001b[39;00m\n\u001b[1;32m      5\u001b[0m \u001b[38;5;66;03m#now we run same code in try and except it wont give any error\u001b[39;00m\n",
      "File \u001b[0;32m/opt/conda/lib/python3.10/site-packages/IPython/core/interactiveshell.py:282\u001b[0m, in \u001b[0;36m_modified_open\u001b[0;34m(file, *args, **kwargs)\u001b[0m\n\u001b[1;32m    275\u001b[0m \u001b[38;5;28;01mif\u001b[39;00m file \u001b[38;5;129;01min\u001b[39;00m {\u001b[38;5;241m0\u001b[39m, \u001b[38;5;241m1\u001b[39m, \u001b[38;5;241m2\u001b[39m}:\n\u001b[1;32m    276\u001b[0m     \u001b[38;5;28;01mraise\u001b[39;00m \u001b[38;5;167;01mValueError\u001b[39;00m(\n\u001b[1;32m    277\u001b[0m         \u001b[38;5;124mf\u001b[39m\u001b[38;5;124m\"\u001b[39m\u001b[38;5;124mIPython won\u001b[39m\u001b[38;5;124m'\u001b[39m\u001b[38;5;124mt let you open fd=\u001b[39m\u001b[38;5;132;01m{\u001b[39;00mfile\u001b[38;5;132;01m}\u001b[39;00m\u001b[38;5;124m by default \u001b[39m\u001b[38;5;124m\"\u001b[39m\n\u001b[1;32m    278\u001b[0m         \u001b[38;5;124m\"\u001b[39m\u001b[38;5;124mas it is likely to crash IPython. If you know what you are doing, \u001b[39m\u001b[38;5;124m\"\u001b[39m\n\u001b[1;32m    279\u001b[0m         \u001b[38;5;124m\"\u001b[39m\u001b[38;5;124myou can use builtins\u001b[39m\u001b[38;5;124m'\u001b[39m\u001b[38;5;124m open.\u001b[39m\u001b[38;5;124m\"\u001b[39m\n\u001b[1;32m    280\u001b[0m     )\n\u001b[0;32m--> 282\u001b[0m \u001b[38;5;28;01mreturn\u001b[39;00m \u001b[43mio_open\u001b[49m\u001b[43m(\u001b[49m\u001b[43mfile\u001b[49m\u001b[43m,\u001b[49m\u001b[43m \u001b[49m\u001b[38;5;241;43m*\u001b[39;49m\u001b[43margs\u001b[49m\u001b[43m,\u001b[49m\u001b[43m \u001b[49m\u001b[38;5;241;43m*\u001b[39;49m\u001b[38;5;241;43m*\u001b[39;49m\u001b[43mkwargs\u001b[49m\u001b[43m)\u001b[49m\n",
      "\u001b[0;31mFileNotFoundError\u001b[0m: [Errno 2] No such file or directory: 'bala.txt'"
     ]
    }
   ],
   "source": [
    "f = open('bala.txt','r')\n",
    "f.write('my name is balasaheb')\n",
    "\n",
    "# in above example we have called the file in readind mode before writing so gives error \n",
    "#now we run same code in try and except it wont give any error"
   ]
  },
  {
   "cell_type": "code",
   "execution_count": 1,
   "id": "3693bfa5-0bf0-436f-8e4f-2632198dfb39",
   "metadata": {},
   "outputs": [
    {
     "name": "stdout",
     "output_type": "stream",
     "text": [
      "[Errno 2] No such file or directory: 'bala.txt'\n"
     ]
    }
   ],
   "source": [
    "try :\n",
    "    f = open('bala.txt','r')\n",
    "    f.write('my name is balasaheb')\n",
    "except Exception as e :\n",
    "    print(e)\n",
    "    "
   ]
  },
  {
   "cell_type": "code",
   "execution_count": null,
   "id": "a153d3ac-ecf5-4ce1-b821-d554ce665942",
   "metadata": {},
   "outputs": [],
   "source": [
    "Q3. which python statements are used to catch and handle exceptions ? explain with example"
   ]
  },
  {
   "cell_type": "code",
   "execution_count": null,
   "id": "58831dcb-5501-4a76-9bd6-9884d3c13739",
   "metadata": {},
   "outputs": [],
   "source": [
    "ans : the try and except block is used to catch and handle the error or exception\n",
    "     so we write a example below and see how our code behaves in error causing situation"
   ]
  },
  {
   "cell_type": "code",
   "execution_count": 20,
   "id": "4411f1f7-04ba-48b4-b63a-35291f0f619b",
   "metadata": {},
   "outputs": [
    {
     "name": "stdin",
     "output_type": "stream",
     "text": [
      "enter number ba\n"
     ]
    },
    {
     "name": "stdout",
     "output_type": "stream",
     "text": [
      "enter numbers only\n"
     ]
    }
   ],
   "source": [
    "try :\n",
    "    n = int(input('enter number'))\n",
    "    print(n**2)  \n",
    "except Exception  as e :\n",
    "    print('enter numbers only')  \n",
    "# so in above example we have entered a string to sqaure but it only takes integers so instead of giving error\n",
    "# it raising objection"
   ]
  },
  {
   "cell_type": "code",
   "execution_count": null,
   "id": "2864efcf-5c10-46e0-9d45-d2c4651be252",
   "metadata": {},
   "outputs": [],
   "source": [
    "Q4.explain with example \n",
    "a. try and else\n",
    "b. finally\n",
    "c. raise"
   ]
  },
  {
   "cell_type": "code",
   "execution_count": null,
   "id": "2beb7e52-1d0a-42a3-b4d9-6809f73f169c",
   "metadata": {},
   "outputs": [],
   "source": [
    "ans]a] try and else block works in such a way that it raises exception when try block \n",
    "     does not executes properly but when try executes properly then else block will executes"
   ]
  },
  {
   "cell_type": "code",
   "execution_count": 21,
   "id": "0b03b45d-be41-46c3-9208-359ee4850394",
   "metadata": {},
   "outputs": [
    {
     "name": "stdin",
     "output_type": "stream",
     "text": [
      "enter number 23\n"
     ]
    },
    {
     "name": "stdout",
     "output_type": "stream",
     "text": [
      "529\n",
      "congratulation your try block executed successfully\n"
     ]
    }
   ],
   "source": [
    "try :\n",
    "    n = int(input('enter number'))\n",
    "    print(n**2)  \n",
    "except Exception  as e :\n",
    "    print('enter numbers only') \n",
    "else :\n",
    "    print('congratulation your try block executed successfully')"
   ]
  },
  {
   "cell_type": "code",
   "execution_count": 22,
   "id": "c0264e70-bfe1-47dc-bf53-112d8e03d06b",
   "metadata": {},
   "outputs": [
    {
     "name": "stdin",
     "output_type": "stream",
     "text": [
      "enter number bala\n"
     ]
    },
    {
     "name": "stdout",
     "output_type": "stream",
     "text": [
      "enter numbers only\n"
     ]
    }
   ],
   "source": [
    "try :\n",
    "    n = int(input('enter number'))\n",
    "    print(n**2)  \n",
    "except Exception  as e :\n",
    "    print('enter numbers only') \n",
    "else :\n",
    "    print('congratulation your try block executed successfully')"
   ]
  },
  {
   "cell_type": "code",
   "execution_count": null,
   "id": "4261f6e7-4e08-4dab-80d9-e6f8908118d4",
   "metadata": {},
   "outputs": [],
   "source": [
    "ans]b] finally is a type of block where it gives output even if try block executes or \n",
    "       not irrespective of try block.in case where you are required to execute any function\n",
    "     which needs to be executed at any cost then finally is used \n",
    "        \n",
    "        # in below example our main code was never executed but finally block however executed"
   ]
  },
  {
   "cell_type": "code",
   "execution_count": 18,
   "id": "71b9b090-59fc-489a-abd3-224c8607abbd",
   "metadata": {},
   "outputs": [
    {
     "name": "stdin",
     "output_type": "stream",
     "text": [
      "enter your name bala\n",
      "enter your surname bhosale\n",
      "enter your age two\n"
     ]
    },
    {
     "name": "stdout",
     "output_type": "stream",
     "text": [
      "congratulation for giving your time\n"
     ]
    },
    {
     "ename": "ValueError",
     "evalue": "invalid literal for int() with base 10: 'two'",
     "output_type": "error",
     "traceback": [
      "\u001b[0;31m---------------------------------------------------------------------------\u001b[0m",
      "\u001b[0;31mValueError\u001b[0m                                Traceback (most recent call last)",
      "Cell \u001b[0;32mIn[18], line 4\u001b[0m\n\u001b[1;32m      2\u001b[0m num1 \u001b[38;5;241m=\u001b[39m \u001b[38;5;28minput\u001b[39m(\u001b[38;5;124m'\u001b[39m\u001b[38;5;124menter your name\u001b[39m\u001b[38;5;124m'\u001b[39m)\n\u001b[1;32m      3\u001b[0m num2 \u001b[38;5;241m=\u001b[39m \u001b[38;5;28minput\u001b[39m(\u001b[38;5;124m'\u001b[39m\u001b[38;5;124menter your surname\u001b[39m\u001b[38;5;124m'\u001b[39m)\n\u001b[0;32m----> 4\u001b[0m num3 \u001b[38;5;241m=\u001b[39m \u001b[38;5;28;43mint\u001b[39;49m\u001b[43m(\u001b[49m\u001b[38;5;28;43minput\u001b[39;49m\u001b[43m(\u001b[49m\u001b[38;5;124;43m'\u001b[39;49m\u001b[38;5;124;43menter your age\u001b[39;49m\u001b[38;5;124;43m'\u001b[39;49m\u001b[43m)\u001b[49m\u001b[43m)\u001b[49m\n\u001b[1;32m      5\u001b[0m name \u001b[38;5;241m=\u001b[39m num1\u001b[38;5;241m+\u001b[39mnum2\u001b[38;5;241m+\u001b[39m\u001b[38;5;124m'\u001b[39m\u001b[38;5;124myour age is\u001b[39m\u001b[38;5;124m'\u001b[39m\u001b[38;5;241m+\u001b[39mnum3\u001b[38;5;241m+\u001b[39m\u001b[38;5;124m'\u001b[39m\u001b[38;5;124myears\u001b[39m\u001b[38;5;124m'\u001b[39m\n\u001b[1;32m      6\u001b[0m \u001b[38;5;28mprint\u001b[39m\n",
      "\u001b[0;31mValueError\u001b[0m: invalid literal for int() with base 10: 'two'"
     ]
    }
   ],
   "source": [
    "try :\n",
    "    num1 = input('enter your name')\n",
    "    num2 = input('enter your surname')\n",
    "    num3 = int(input('enter your age'))\n",
    "    name = num1+num2+'your age is'+num3+'years'\n",
    "    print\n",
    "finally :\n",
    "    print('congratulation for giving your time')"
   ]
  },
  {
   "cell_type": "code",
   "execution_count": null,
   "id": "16fcc7e9-c23c-4d88-888d-60dd34d7a61b",
   "metadata": {},
   "outputs": [],
   "source": [
    "ans]c] raise is a keyword used to interupt a programme when it gives error"
   ]
  },
  {
   "cell_type": "code",
   "execution_count": 2,
   "id": "a2a7d969-92fb-4f2a-acc7-eac3f0103e28",
   "metadata": {},
   "outputs": [],
   "source": [
    "class validateage(Exception):\n",
    "    \n",
    "      def __init__(self,msg):\n",
    "        self.msg=msg  "
   ]
  },
  {
   "cell_type": "code",
   "execution_count": 3,
   "id": "e4260b19-6345-47cb-929d-7d1c90e26e44",
   "metadata": {},
   "outputs": [],
   "source": [
    "def validage(age):\n",
    "    if age < 0 :\n",
    "        raise validateage('age cannot be negative')\n",
    "    elif age > 200 :\n",
    "        raise validateage('age is very high')\n",
    "    else :\n",
    "        print('age is valid')"
   ]
  },
  {
   "cell_type": "code",
   "execution_count": 5,
   "id": "1c95b508-4a1e-44e2-9d15-6489ba70a287",
   "metadata": {},
   "outputs": [
    {
     "name": "stdin",
     "output_type": "stream",
     "text": [
      "enter your age 240\n"
     ]
    },
    {
     "name": "stdout",
     "output_type": "stream",
     "text": [
      "age is very high\n"
     ]
    }
   ],
   "source": [
    "try :\n",
    "    age = int(input('enter your age'))\n",
    "    validage(age)\n",
    "except validateage as e :\n",
    "    print(e)   "
   ]
  },
  {
   "cell_type": "code",
   "execution_count": null,
   "id": "8ab32a70-7f4d-4522-9fea-5dcdf89a862b",
   "metadata": {},
   "outputs": [],
   "source": [
    "Q5.what are custom exceptions in python?why do we need custom exception ? explain with example"
   ]
  },
  {
   "cell_type": "code",
   "execution_count": null,
   "id": "43abeedb-3c6f-4c16-be50-011c1661608c",
   "metadata": {},
   "outputs": [],
   "source": [
    "ans] when there is no library for our exception then we can create our own library which is called custom\n",
    "     exception\n",
    "    we need custom exception in case we are defining a problematic situation which is not a default\n",
    "    condition in python in such cases we create custom exception\n",
    "    eg : lets take a example of factorial function we can get factorial of any number but \n",
    "    if that number is negative we can create a class to raise objection."
   ]
  },
  {
   "cell_type": "code",
   "execution_count": null,
   "id": "5bb4f054-93ee-44a2-aaf6-ce202ac3526c",
   "metadata": {},
   "outputs": [],
   "source": [
    "Q6.create custom exception class use this class to handle an exception"
   ]
  },
  {
   "cell_type": "code",
   "execution_count": 1,
   "id": "25df22f9-5db9-4f28-9b46-376a1e4f2a62",
   "metadata": {},
   "outputs": [],
   "source": [
    "class error(Exception):\n",
    "    \n",
    "      def __init__(self,msg):\n",
    "        self.msg=msg  "
   ]
  },
  {
   "cell_type": "code",
   "execution_count": 3,
   "id": "e5646e68-2a23-433a-b26c-9b3424635a1a",
   "metadata": {},
   "outputs": [],
   "source": [
    "def vehicle(average):\n",
    "    if average < 10 :\n",
    "        raise error('not so good')\n",
    "    elif average > 120 :\n",
    "        raise error('average is high company must be fraud')\n",
    "    else :\n",
    "        print('average is valid')"
   ]
  },
  {
   "cell_type": "code",
   "execution_count": 5,
   "id": "53c0c76c-c148-4750-963f-b0f381025a10",
   "metadata": {},
   "outputs": [
    {
     "name": "stdin",
     "output_type": "stream",
     "text": [
      "enter your average 100\n"
     ]
    },
    {
     "name": "stdout",
     "output_type": "stream",
     "text": [
      "average is valid\n"
     ]
    }
   ],
   "source": [
    "try :\n",
    "    average = int(input('enter your average'))\n",
    "    vehicle(average)\n",
    "except error as e :\n",
    "    print(e)   "
   ]
  },
  {
   "cell_type": "markdown",
   "id": "b4c00669-0f86-4569-beb3-0da6e0cc8eba",
   "metadata": {},
   "source": []
  }
 ],
 "metadata": {
  "kernelspec": {
   "display_name": "Python 3 (ipykernel)",
   "language": "python",
   "name": "python3"
  },
  "language_info": {
   "codemirror_mode": {
    "name": "ipython",
    "version": 3
   },
   "file_extension": ".py",
   "mimetype": "text/x-python",
   "name": "python",
   "nbconvert_exporter": "python",
   "pygments_lexer": "ipython3",
   "version": "3.10.8"
  }
 },
 "nbformat": 4,
 "nbformat_minor": 5
}
