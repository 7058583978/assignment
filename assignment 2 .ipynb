{
 "cells": [
  {
   "cell_type": "markdown",
   "id": "110763c7-9687-45d5-ad76-ee9ab4d88034",
   "metadata": {},
   "source": [
    "ASSIGNMENT : 2"
   ]
  },
  {
   "cell_type": "code",
   "execution_count": 1,
   "id": "8ac441c2-dc79-4ff3-9099-1378733dc92a",
   "metadata": {},
   "outputs": [],
   "source": [
    "#Q 1 ]"
   ]
  },
  {
   "cell_type": "code",
   "execution_count": 2,
   "id": "647e943f-05da-4789-a11b-8e6f8943d68a",
   "metadata": {},
   "outputs": [
    {
     "name": "stdin",
     "output_type": "stream",
     "text": [
      "enter your marks 75\n"
     ]
    },
    {
     "name": "stdout",
     "output_type": "stream",
     "text": [
      "you got grade B\n"
     ]
    }
   ],
   "source": [
    "marks = int(input('enter your marks'))\n",
    "if marks > 90 :\n",
    "    print('you got grade A')\n",
    "elif marks > 80 or marks <= 90 :\n",
    "    print('you got grade B')\n",
    "elif marks >= 60 or marks <= 80 :\n",
    "    print('you got grade C')\n",
    "else :\n",
    "    print('you got grade D')"
   ]
  },
  {
   "cell_type": "code",
   "execution_count": 2,
   "id": "a4fab3af-e941-4fb9-b5fc-5b991a6b0752",
   "metadata": {},
   "outputs": [],
   "source": [
    "#Q 2 ]"
   ]
  },
  {
   "cell_type": "code",
   "execution_count": 1,
   "id": "43c05056-65b7-48d8-888b-dc65553595fd",
   "metadata": {
    "jupyter": {
     "source_hidden": true
    },
    "tags": []
   },
   "outputs": [
    {
     "name": "stdin",
     "output_type": "stream",
     "text": [
      "enter price of your bike 60000\n"
     ]
    },
    {
     "name": "stdout",
     "output_type": "stream",
     "text": [
      "your road tax is  6000.0\n"
     ]
    }
   ],
   "source": [
    "cost_price = int(input(\"enter price of your bike\"))\n",
    "\n",
    "if cost_price > 100000 :\n",
    "    print('your road tax is  ' + str(0.15*cost_price))\n",
    "elif cost_price > 50000 and cost_price <= 100000 :\n",
    "    print('your road tax is  ' + str(0.10*cost_price))\n",
    "elif  cost_price <= 50000 :\n",
    "     print('your road tax is  ' + str(0.05*cost_price))"
   ]
  },
  {
   "cell_type": "code",
   "execution_count": 3,
   "id": "577712d0-80e0-457d-91cb-49b618182cac",
   "metadata": {},
   "outputs": [],
   "source": [
    "# Q 3] "
   ]
  },
  {
   "cell_type": "code",
   "execution_count": 5,
   "id": "aa4f400c-104f-4e10-a177-8f920c977bc8",
   "metadata": {},
   "outputs": [
    {
     "name": "stdin",
     "output_type": "stream",
     "text": [
      "enter name of the city from [delhi , agra , jaipur] jaipur\n"
     ]
    },
    {
     "name": "stdout",
     "output_type": "stream",
     "text": [
      "jal mahal\n"
     ]
    }
   ],
   "source": [
    "city = input('enter name of the city from [delhi , agra , jaipur]')\n",
    "if city == 'delhi':\n",
    "    print('red fort')\n",
    "elif city == 'agra' :\n",
    "    print('taj mahal')\n",
    "elif city == 'jaipur' :\n",
    "    print('jal mahal')"
   ]
  },
  {
   "cell_type": "code",
   "execution_count": 6,
   "id": "2b0a3513-1367-4bac-a4ba-d57283621daa",
   "metadata": {},
   "outputs": [],
   "source": [
    "# Q 4]"
   ]
  },
  {
   "cell_type": "code",
   "execution_count": 2,
   "id": "7b1904e1-4b8f-407f-99ca-cf29551f95c9",
   "metadata": {},
   "outputs": [
    {
     "name": "stdin",
     "output_type": "stream",
     "text": [
      "enter your number 3\n"
     ]
    },
    {
     "name": "stdout",
     "output_type": "stream",
     "text": [
      "1\n"
     ]
    }
   ],
   "source": [
    "i = int(input('enter your number'))\n",
    "while i <= 10 :\n",
    "    print(int(i/3))\n",
    "    break"
   ]
  },
  {
   "cell_type": "code",
   "execution_count": 3,
   "id": "f2e8269b-3af6-44b7-86be-d04bfe5952f4",
   "metadata": {},
   "outputs": [],
   "source": [
    "# Q 5]"
   ]
  },
  {
   "cell_type": "raw",
   "id": "9c1cf7d1-69d6-41fe-a345-44fdd408e32d",
   "metadata": {},
   "source": [
    "ANS : while loop used in python when certain function required to run only when specific condition satisfies\n",
    "in case while loop first condition always runs and it continues unless result comes as false."
   ]
  },
  {
   "cell_type": "code",
   "execution_count": 2,
   "id": "96109464-87ff-4c7c-af4f-1fde1c83caa3",
   "metadata": {},
   "outputs": [
    {
     "name": "stdin",
     "output_type": "stream",
     "text": [
      "enter your number 5\n"
     ]
    },
    {
     "name": "stdout",
     "output_type": "stream",
     "text": [
      "0\n",
      "1\n",
      "4\n",
      "9\n",
      "16\n",
      "25\n"
     ]
    }
   ],
   "source": [
    "target = int(input(\"enter your number\"))\n",
    "i = 0\n",
    "while i <= target :\n",
    "    print(i**2)\n",
    "    i = i + 1"
   ]
  },
  {
   "cell_type": "raw",
   "id": "c856b728-8406-4881-b710-2242fc70109b",
   "metadata": {},
   "source": [
    "so in above example we have find the sqaure of each number which is <= our target \n",
    "firstly, while loop check wheather our condition that is i is less than target and \n",
    "then it executes loop will continue untill condition return as false .... "
   ]
  },
  {
   "cell_type": "code",
   "execution_count": 4,
   "id": "e369b768-eaaf-4825-9efc-291e8e4804fb",
   "metadata": {},
   "outputs": [],
   "source": [
    "#Q 6]"
   ]
  },
  {
   "cell_type": "code",
   "execution_count": 2,
   "id": "a43bf8a8-6d83-4b1e-a366-5fa4e78a1c58",
   "metadata": {},
   "outputs": [
    {
     "name": "stdout",
     "output_type": "stream",
     "text": [
      "*****\n",
      "*****\n",
      "*****\n",
      "*****\n",
      "*****\n"
     ]
    }
   ],
   "source": [
    "i = 1\n",
    "while i <= 5:\n",
    "        j = 1\n",
    "        while j <= 5:\n",
    "            print('*' , end='')\n",
    "            j = j+1\n",
    "        print()\n",
    "        i = i+1"
   ]
  },
  {
   "cell_type": "code",
   "execution_count": 3,
   "id": "177ed9b3-c960-4e10-8c70-9b11c0af5a42",
   "metadata": {},
   "outputs": [
    {
     "name": "stdout",
     "output_type": "stream",
     "text": [
      "*\n",
      "**\n",
      "***\n",
      "****\n",
      "*****\n"
     ]
    }
   ],
   "source": [
    "i = 1\n",
    "while i <= 5:\n",
    "        j = 1\n",
    "        while j <= i:\n",
    "            print('*' , end='')\n",
    "            j = j+1\n",
    "        print()\n",
    "        i = i+1"
   ]
  },
  {
   "cell_type": "code",
   "execution_count": 4,
   "id": "a84e2779-d200-41cb-8158-bfc5d3905ad7",
   "metadata": {},
   "outputs": [
    {
     "name": "stdout",
     "output_type": "stream",
     "text": [
      "*****\n",
      "****\n",
      "***\n",
      "**\n",
      "*\n"
     ]
    }
   ],
   "source": [
    "i = 1\n",
    "while i <= 5:\n",
    "        j = 1\n",
    "        while j <=6-i:\n",
    "            print('*' , end='')\n",
    "            j = j+1\n",
    "        print()\n",
    "        i = i+1"
   ]
  },
  {
   "cell_type": "code",
   "execution_count": null,
   "id": "eecbb00f-450d-4258-8d9d-ec2e8a455459",
   "metadata": {},
   "outputs": [],
   "source": [
    "#Q 7]"
   ]
  },
  {
   "cell_type": "code",
   "execution_count": 1,
   "id": "00f7e469-0e9e-4c04-bcf7-95edd948898f",
   "metadata": {},
   "outputs": [
    {
     "name": "stdout",
     "output_type": "stream",
     "text": [
      "10\n",
      "9\n",
      "8\n",
      "7\n",
      "6\n",
      "5\n",
      "4\n",
      "3\n",
      "2\n",
      "1\n"
     ]
    }
   ],
   "source": [
    "i = 10\n",
    "while i > 0:\n",
    "    print(i)\n",
    "    i=i-1"
   ]
  },
  {
   "cell_type": "code",
   "execution_count": 2,
   "id": "d6278abc-5bb9-4631-8d92-518a8c881352",
   "metadata": {},
   "outputs": [],
   "source": [
    "# Q8]"
   ]
  },
  {
   "cell_type": "code",
   "execution_count": 3,
   "id": "bd80c836-2bbd-4d11-9dec-88567b00edc3",
   "metadata": {},
   "outputs": [
    {
     "name": "stdout",
     "output_type": "stream",
     "text": [
      "10\n",
      "9\n",
      "8\n",
      "7\n",
      "6\n",
      "5\n",
      "4\n",
      "3\n",
      "2\n",
      "1\n"
     ]
    }
   ],
   "source": [
    "i = 10\n",
    "while i > 0:\n",
    "    print(i)\n",
    "    i=i-1"
   ]
  },
  {
   "cell_type": "code",
   "execution_count": null,
   "id": "aaf0f9d6-cd2f-4ebf-807d-78e9437a7af7",
   "metadata": {},
   "outputs": [],
   "source": []
  }
 ],
 "metadata": {
  "kernelspec": {
   "display_name": "Python 3 (ipykernel)",
   "language": "python",
   "name": "python3"
  },
  "language_info": {
   "codemirror_mode": {
    "name": "ipython",
    "version": 3
   },
   "file_extension": ".py",
   "mimetype": "text/x-python",
   "name": "python",
   "nbconvert_exporter": "python",
   "pygments_lexer": "ipython3",
   "version": "3.10.8"
  }
 },
 "nbformat": 4,
 "nbformat_minor": 5
}
