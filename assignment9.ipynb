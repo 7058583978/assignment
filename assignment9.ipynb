{
 "cells": [
  {
   "cell_type": "code",
   "execution_count": null,
   "id": "1c10d3f3-fcd8-4d18-b3da-a9cc620c771c",
   "metadata": {},
   "outputs": [],
   "source": [
    "Q1. What is Abstraction in OOps? Explain with an example."
   ]
  },
  {
   "cell_type": "code",
   "execution_count": null,
   "id": "1b2964ec-58a7-4331-b56c-1002fe22eac6",
   "metadata": {},
   "outputs": [],
   "source": [
    "ans] abstraction in nothing but the hiding internal processes from user and\n",
    "     providing only needful data or results to the user.\n",
    "    \n",
    "example : lets take the example of switch and bulb when we switch on the lights we dont\n",
    "          need to see the current flowing through the conductor or the heat which\n",
    "          produces due to flowing current or say the transformers which converts the high voltage into low\n",
    "          voltages what we get is only light similar manner our light is the output and remaining\n",
    "          process is our programme ."
   ]
  },
  {
   "cell_type": "code",
   "execution_count": null,
   "id": "c14e902f-8c92-4145-8afa-cac8fed5f0b5",
   "metadata": {},
   "outputs": [],
   "source": [
    "Q2. Differentiate between Abstraction and Encapsulation. Explain with an example."
   ]
  },
  {
   "cell_type": "code",
   "execution_count": null,
   "id": "14cb04b4-e2c1-4ef6-9f44-bce43b0117bf",
   "metadata": {},
   "outputs": [],
   "source": [
    "ans] abstraction is hiding the internal process of a programme and providing directly\n",
    "     the result example we have seen in above q\n",
    "     on the other hand encapsulation is means restrict the user from accessing perticular \n",
    "     object from class so that user cannot change according to him\n",
    "\n",
    "example : lets take a example of bank account we can only access the deposit and withdraw \n",
    "         option we cannot update account balance without depositing the hard money \n",
    "         so we restrict the user from accesing object which controls the balance"
   ]
  },
  {
   "cell_type": "code",
   "execution_count": null,
   "id": "6ed5db1e-df6b-476a-85e1-f7cfcaa7110a",
   "metadata": {},
   "outputs": [],
   "source": [
    "Q3. What is abc module in python? Why is it used?"
   ]
  },
  {
   "cell_type": "code",
   "execution_count": null,
   "id": "5d0014e0-fe0b-4dc0-8650-51acd80256cf",
   "metadata": {},
   "outputs": [],
   "source": [
    "ans] abc stands for abstract base class which is used to check wheather the function\n",
    "     stick to our specification or not\n",
    "    abc is used to override the basic function present in python\n",
    "    abstract class method need not require initiation it automatically initiates from class\n",
    "    from which it is abstracted\n",
    "    "
   ]
  },
  {
   "cell_type": "code",
   "execution_count": null,
   "id": "8c411c89-3b43-465c-ad42-d38b99684e82",
   "metadata": {},
   "outputs": [],
   "source": [
    "Q4. How can we achieve data abstraction?"
   ]
  },
  {
   "cell_type": "code",
   "execution_count": null,
   "id": "ede459f7-5fda-4f94-9ab2-9a31f7331d91",
   "metadata": {},
   "outputs": [],
   "source": [
    "ans] in order to achieve data abstraction we need to inherit the class into \n",
    "     other class as abstract class"
   ]
  },
  {
   "cell_type": "code",
   "execution_count": 4,
   "id": "d29bfff3-60fa-4e5f-ba97-8c919b97778f",
   "metadata": {},
   "outputs": [
    {
     "name": "stdout",
     "output_type": "stream",
     "text": [
      "welcome to pwskills\n"
     ]
    }
   ],
   "source": [
    "#example \n",
    "class class1 :\n",
    "    def welcome(self):\n",
    "        print('welcome to pwskills')\n",
    "        \n",
    "class class2(class1) :\n",
    "    pass\n",
    "\n",
    "a = class2()\n",
    "a.welcome()\n",
    "#in above example we abstracted class a data in class 2"
   ]
  },
  {
   "cell_type": "code",
   "execution_count": null,
   "id": "83a79624-2f48-47c8-b0df-dfb6a5c8460d",
   "metadata": {},
   "outputs": [],
   "source": [
    "Q5. Can we create an instance of an abstract class? Explain your answer."
   ]
  },
  {
   "cell_type": "code",
   "execution_count": null,
   "id": "c1f73f36-b40f-4c08-ad43-2f1b751ca894",
   "metadata": {},
   "outputs": [],
   "source": [
    "ans] we cannot create an instance of abstract class beacause abstract contains all\n",
    "     method which are required to performed by subclasses hence it does not create\n",
    "     any data\n",
    "    so we cannot create instances of abstract class but can define abstract methods and\n",
    "    implement the methods"
   ]
  }
 ],
 "metadata": {
  "kernelspec": {
   "display_name": "Python 3 (ipykernel)",
   "language": "python",
   "name": "python3"
  },
  "language_info": {
   "codemirror_mode": {
    "name": "ipython",
    "version": 3
   },
   "file_extension": ".py",
   "mimetype": "text/x-python",
   "name": "python",
   "nbconvert_exporter": "python",
   "pygments_lexer": "ipython3",
   "version": "3.10.8"
  }
 },
 "nbformat": 4,
 "nbformat_minor": 5
}
