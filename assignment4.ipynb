{
 "cells": [
  {
   "cell_type": "code",
   "execution_count": null,
   "id": "1a7130fd-6f6d-4a69-800b-f533df105150",
   "metadata": {},
   "outputs": [],
   "source": [
    "Q1. Which keyword is used to create a function? Create a function to return a list of odd numbers in the\n",
    "    range of 1 to 25. "
   ]
  },
  {
   "cell_type": "markdown",
   "id": "2e2a89f6-d914-4f20-806e-1aef0860c573",
   "metadata": {},
   "source": [
    "ans : def keyword is used to create a function"
   ]
  },
  {
   "cell_type": "code",
   "execution_count": 1,
   "id": "2d22639a-1940-4e89-b9ab-fc359f027b3b",
   "metadata": {},
   "outputs": [],
   "source": [
    "def odd():\n",
    "    for i in range(1,26,2):\n",
    "        print(i,'','',end='')"
   ]
  },
  {
   "cell_type": "code",
   "execution_count": 2,
   "id": "30e3a46e-be2c-4cb0-86b5-2f792b273e51",
   "metadata": {},
   "outputs": [
    {
     "name": "stdout",
     "output_type": "stream",
     "text": [
      "1  3  5  7  9  11  13  15  17  19  21  23  25  "
     ]
    }
   ],
   "source": [
    "odd()"
   ]
  },
  {
   "cell_type": "code",
   "execution_count": null,
   "id": "5ec1c2cb-aecb-4696-8662-351c1a290b7a",
   "metadata": {},
   "outputs": [],
   "source": [
    "Q2. Why *args and **kwargs is used in some functions? Create a function each for *args and **kwargs\n",
    "    to demonstrate their use."
   ]
  },
  {
   "cell_type": "code",
   "execution_count": null,
   "id": "dbb59910-1448-41b4-b38d-7bd22163b9f6",
   "metadata": {},
   "outputs": [],
   "source": [
    "ans : args are used when we need multiple input from the user and kwargs are used when we need data key and value\n",
    "      pairs and we use * and ** notations for args and kwargs respectively."
   ]
  },
  {
   "cell_type": "code",
   "execution_count": 34,
   "id": "473dc244-f667-45cc-8694-b26772217367",
   "metadata": {},
   "outputs": [],
   "source": [
    "def circle(*r):\n",
    "    return r"
   ]
  },
  {
   "cell_type": "code",
   "execution_count": 35,
   "id": "cf361418-7572-4780-a64c-bcc4c5650a99",
   "metadata": {},
   "outputs": [
    {
     "data": {
      "text/plain": [
       "(2,)"
      ]
     },
     "execution_count": 35,
     "metadata": {},
     "output_type": "execute_result"
    }
   ],
   "source": [
    "circle(2)"
   ]
  },
  {
   "cell_type": "code",
   "execution_count": 38,
   "id": "dcb4a893-076b-490a-958b-3cdd4df811d2",
   "metadata": {},
   "outputs": [],
   "source": [
    "def data(**r):\n",
    "    return r"
   ]
  },
  {
   "cell_type": "code",
   "execution_count": 39,
   "id": "9a5619e3-fb5e-4054-b823-89aa295f4175",
   "metadata": {},
   "outputs": [
    {
     "data": {
      "text/plain": [
       "{'name': 'balasaheb', 'ssc_marks': '90%', 'hsc_marks': '82'}"
      ]
     },
     "execution_count": 39,
     "metadata": {},
     "output_type": "execute_result"
    }
   ],
   "source": [
    "data(name = 'balasaheb',ssc_marks = '90%',hsc_marks = '82')"
   ]
  },
  {
   "cell_type": "code",
   "execution_count": null,
   "id": "6ee67823-a93b-4a69-bbd2-b8e10d623e34",
   "metadata": {},
   "outputs": [],
   "source": [
    "Q3. What is an iterator in python? Name the method used to initialise the iterator object and the method\n",
    "    used for iteration. Use these methods to print the first five elements of the given list [2, 4, 6, 8, 10, 12,       14,16, 18, 20]."
   ]
  },
  {
   "cell_type": "code",
   "execution_count": null,
   "id": "e862f4d9-cbdf-4130-b835-9657f05c54d6",
   "metadata": {},
   "outputs": [],
   "source": [
    "ans : iterartor is a type of data which allow us to devide itself into smaller data\n",
    "      but we can convert only those data types into iterators which are iterable for eg string\n",
    "      and we cannot convert int into iterators because they are not iterables.\n",
    "      to initialise iterator function we use iter() and to get data we use next(). \n",
    "    "
   ]
  },
  {
   "cell_type": "code",
   "execution_count": 73,
   "id": "664ea160-214f-4bf1-a34b-92f0c70d39b3",
   "metadata": {},
   "outputs": [],
   "source": [
    "l = [2, 4, 6, 8, 10, 12,14,16, 18, 20]"
   ]
  },
  {
   "cell_type": "code",
   "execution_count": 74,
   "id": "7cf8048b-6121-49ca-a6f3-20b105f0a637",
   "metadata": {},
   "outputs": [],
   "source": [
    "l = iter(l)"
   ]
  },
  {
   "cell_type": "code",
   "execution_count": 75,
   "id": "4dca59c5-1e14-48ca-9443-828e425d0ac8",
   "metadata": {},
   "outputs": [
    {
     "data": {
      "text/plain": [
       "(2, 4, 6, 8, 10)"
      ]
     },
     "execution_count": 75,
     "metadata": {},
     "output_type": "execute_result"
    }
   ],
   "source": [
    "next(l),next(l),next(l),next(l),next(l)"
   ]
  },
  {
   "cell_type": "code",
   "execution_count": null,
   "id": "3573daca-9a7f-429b-b045-e3ea30ab9987",
   "metadata": {},
   "outputs": [],
   "source": [
    "Q4. What is a generator function in python? Why yield keyword is used? Give an example of a generator\n",
    "    function."
   ]
  },
  {
   "cell_type": "code",
   "execution_count": null,
   "id": "f58e5c7b-f8ab-4540-98df-fa683f7d48bb",
   "metadata": {},
   "outputs": [],
   "source": [
    "ans : generator is function in python which helps us to manage large amount of data\n",
    "      which he can generates but unlike print function it does not run infinitly but\n",
    "      it generates data as per our requirement one by one and yield is a keyword which helps \n",
    "      the function to throw the data"
   ]
  },
  {
   "cell_type": "code",
   "execution_count": 2,
   "id": "20e0020e-39ff-4a98-b88b-6bb6ca95f557",
   "metadata": {},
   "outputs": [],
   "source": [
    "def sqr(n):\n",
    "    for i in range(1,n+1):\n",
    "        yield i**2"
   ]
  },
  {
   "cell_type": "code",
   "execution_count": 3,
   "id": "74c0cbb4-6a3c-4f04-9024-1edfa01b638e",
   "metadata": {},
   "outputs": [
    {
     "name": "stdout",
     "output_type": "stream",
     "text": [
      "1 ,4 ,9 ,16 ,25 ,36 ,49 ,64 ,81 ,100 ,"
     ]
    }
   ],
   "source": [
    "for i in sqr(10):\n",
    "    print(i,',',end='')  "
   ]
  },
  {
   "cell_type": "code",
   "execution_count": null,
   "id": "f8c07b8e-b6be-41f2-9411-a0567caebd48",
   "metadata": {},
   "outputs": [],
   "source": [
    "Q5. Create a generator function for prime numbers less than 1000. Use the next() method to print the\n",
    "    first 20 prime numbers."
   ]
  },
  {
   "cell_type": "code",
   "execution_count": 101,
   "id": "f67bb23c-6add-4061-8af2-63703ab986d5",
   "metadata": {},
   "outputs": [],
   "source": [
    "def prime():\n",
    "    for i in range(2,1000):\n",
    "        if i > 1:\n",
    "            for j in range(2, i):\n",
    "                if i % j == 0:\n",
    "                    break\n",
    "            else:\n",
    "                yield i"
   ]
  },
  {
   "cell_type": "code",
   "execution_count": 102,
   "id": "f0e6a93a-392c-415c-bc63-37720e84f795",
   "metadata": {},
   "outputs": [],
   "source": [
    "l= list(prime())"
   ]
  },
  {
   "cell_type": "code",
   "execution_count": 103,
   "id": "024e1057-6920-4f67-9987-aea286e0172f",
   "metadata": {},
   "outputs": [],
   "source": [
    "l=iter(l)"
   ]
  },
  {
   "cell_type": "code",
   "execution_count": 104,
   "id": "bf2d70fc-4d41-44f9-a6ea-d159e3378611",
   "metadata": {},
   "outputs": [
    {
     "data": {
      "text/plain": [
       "(2, 3, 5, 7, 11, 13, 17, 19, 23, 29, 31, 37, 41, 43, 47, 53, 59, 61, 67, 71)"
      ]
     },
     "execution_count": 104,
     "metadata": {},
     "output_type": "execute_result"
    }
   ],
   "source": [
    "next(l),next(l),next(l),next(l),next(l),next(l),next(l),next(l),next(l),next(l),next(l),next(l),next(l),next(l),next(l),next(l),next(l),next(l),next(l),next(l),"
   ]
  },
  {
   "cell_type": "code",
   "execution_count": null,
   "id": "0be6a26a-ad14-4bde-8055-520003a7a541",
   "metadata": {},
   "outputs": [],
   "source": [
    "Q6. Write a python program to print the first 10 Fibonacci numbers using a while loop."
   ]
  },
  {
   "cell_type": "code",
   "execution_count": 5,
   "id": "2c8a50a5-e14f-4ad5-9342-fbe866578008",
   "metadata": {},
   "outputs": [
    {
     "name": "stdout",
     "output_type": "stream",
     "text": [
      "0\n",
      "1\n",
      "1\n",
      "2\n",
      "3\n",
      "5\n",
      "8\n",
      "13\n",
      "21\n",
      "34\n",
      "55\n"
     ]
    }
   ],
   "source": [
    "a = 0\n",
    "b = 1\n",
    "i=0\n",
    "while i <= 10:\n",
    "    print(a)\n",
    "    c=a+b\n",
    "    a=b\n",
    "    b=c\n",
    "    i=i+1\n",
    "    "
   ]
  },
  {
   "cell_type": "code",
   "execution_count": null,
   "id": "9b0610e0-38bc-4092-8598-4f779b1e53ef",
   "metadata": {},
   "outputs": [],
   "source": [
    "Q7. Write a List Comprehension to iterate through the given string: ‘pwskills’.\n",
    "Expected output: ['p', 'w', 's', 'k', 'i', 'l', 'l', 's']"
   ]
  },
  {
   "cell_type": "code",
   "execution_count": 14,
   "id": "beb74988-5648-4088-a9a5-9a2ef492f1b6",
   "metadata": {},
   "outputs": [],
   "source": [
    "s = 'pwskills'"
   ]
  },
  {
   "cell_type": "code",
   "execution_count": 15,
   "id": "7fe2113f-8988-4725-b021-b81de7fb2834",
   "metadata": {},
   "outputs": [
    {
     "data": {
      "text/plain": [
       "['p', 'w', 's', 'k', 'i', 'l', 'l', 's']"
      ]
     },
     "execution_count": 15,
     "metadata": {},
     "output_type": "execute_result"
    }
   ],
   "source": [
    "[i for i in s  ]"
   ]
  },
  {
   "cell_type": "code",
   "execution_count": null,
   "id": "a532ba65-dc2a-4deb-8202-78ab540864d0",
   "metadata": {},
   "outputs": [],
   "source": [
    "Q8. Write a python program to check whether a given number is Palindrome or not using a while loop."
   ]
  },
  {
   "cell_type": "code",
   "execution_count": 21,
   "id": "4bb2d4cb-e6dd-4356-9a84-e580460649be",
   "metadata": {},
   "outputs": [
    {
     "name": "stdin",
     "output_type": "stream",
     "text": [
      "enter your number 12345654321\n"
     ]
    },
    {
     "name": "stdout",
     "output_type": "stream",
     "text": [
      "given number is palindrome\n"
     ]
    }
   ],
   "source": [
    "s = input('enter your number')\n",
    "s1 = s[::-1]\n",
    "if s==s1:\n",
    "    print('given number is palindrome')\n",
    "else :\n",
    "    print('given number is not palindrome')"
   ]
  },
  {
   "cell_type": "code",
   "execution_count": null,
   "id": "a797f6d2-ca10-4000-9d20-ec5acc91da30",
   "metadata": {},
   "outputs": [],
   "source": [
    "Q9. Write a code to print odd numbers from 1 to 100 using list comprehension.\n",
    "    Note: Use a list comprehension to create a list from 1 to 100 and use another List comprehension to filter\n",
    "    out odd numbers."
   ]
  },
  {
   "cell_type": "code",
   "execution_count": 22,
   "id": "f1c4dee1-45d5-4d49-8d83-29862184e3c9",
   "metadata": {},
   "outputs": [],
   "source": [
    "l = list(range(0,101))"
   ]
  },
  {
   "cell_type": "code",
   "execution_count": 23,
   "id": "5b5cfd78-2e4f-4a33-9b3b-4e68590d3d56",
   "metadata": {},
   "outputs": [
    {
     "data": {
      "text/plain": [
       "[1,\n",
       " 3,\n",
       " 5,\n",
       " 7,\n",
       " 9,\n",
       " 11,\n",
       " 13,\n",
       " 15,\n",
       " 17,\n",
       " 19,\n",
       " 21,\n",
       " 23,\n",
       " 25,\n",
       " 27,\n",
       " 29,\n",
       " 31,\n",
       " 33,\n",
       " 35,\n",
       " 37,\n",
       " 39,\n",
       " 41,\n",
       " 43,\n",
       " 45,\n",
       " 47,\n",
       " 49,\n",
       " 51,\n",
       " 53,\n",
       " 55,\n",
       " 57,\n",
       " 59,\n",
       " 61,\n",
       " 63,\n",
       " 65,\n",
       " 67,\n",
       " 69,\n",
       " 71,\n",
       " 73,\n",
       " 75,\n",
       " 77,\n",
       " 79,\n",
       " 81,\n",
       " 83,\n",
       " 85,\n",
       " 87,\n",
       " 89,\n",
       " 91,\n",
       " 93,\n",
       " 95,\n",
       " 97,\n",
       " 99]"
      ]
     },
     "execution_count": 23,
     "metadata": {},
     "output_type": "execute_result"
    }
   ],
   "source": [
    "[i for i in l if i%2==1]"
   ]
  },
  {
   "cell_type": "code",
   "execution_count": null,
   "id": "76b4ccb1-d4bc-4ff4-b919-a4e33adc1741",
   "metadata": {},
   "outputs": [],
   "source": []
  }
 ],
 "metadata": {
  "kernelspec": {
   "display_name": "Python 3 (ipykernel)",
   "language": "python",
   "name": "python3"
  },
  "language_info": {
   "codemirror_mode": {
    "name": "ipython",
    "version": 3
   },
   "file_extension": ".py",
   "mimetype": "text/x-python",
   "name": "python",
   "nbconvert_exporter": "python",
   "pygments_lexer": "ipython3",
   "version": "3.10.8"
  }
 },
 "nbformat": 4,
 "nbformat_minor": 5
}
