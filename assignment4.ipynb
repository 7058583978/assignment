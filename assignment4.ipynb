{
 "cells": [
  {
   "cell_type": "raw",
   "id": "c577b259-8e02-472a-b2aa-968e0baa656b",
   "metadata": {},
   "source": [
    "Q1. Which keyword is used to create a function? Create a function to return a list of odd numbers in the\n",
    "    range of 1 to 25. "
   ]
  },
  {
   "cell_type": "markdown",
   "id": "2e2a89f6-d914-4f20-806e-1aef0860c573",
   "metadata": {},
   "source": [
    "ans : def keyword is used to create a function"
   ]
  },
  {
   "cell_type": "code",
   "execution_count": 1,
   "id": "2d22639a-1940-4e89-b9ab-fc359f027b3b",
   "metadata": {},
   "outputs": [],
   "source": [
    "def odd():\n",
    "    for i in range(1,26,2):\n",
    "        print(i,'','',end='')"
   ]
  },
  {
   "cell_type": "code",
   "execution_count": 2,
   "id": "30e3a46e-be2c-4cb0-86b5-2f792b273e51",
   "metadata": {},
   "outputs": [
    {
     "name": "stdout",
     "output_type": "stream",
     "text": [
      "1  3  5  7  9  11  13  15  17  19  21  23  25  "
     ]
    }
   ],
   "source": [
    "odd()"
   ]
  },
  {
   "cell_type": "raw",
   "id": "dd742166-3509-4f4f-936c-ef2f77c38475",
   "metadata": {},
   "source": [
    "Q2. Why *args and **kwargs is used in some functions? Create a function each for *args and **kwargs\n",
    "    to demonstrate their use."
   ]
  },
  {
   "cell_type": "raw",
   "id": "28c32956-9c01-4f1f-ac40-33556e4ef25e",
   "metadata": {},
   "source": [
    "ans : args are used when we need multiple input from the user and kwargs are used when we need data key and value\n",
    "      pairs and we use * and ** notations for args and kwargs respectively."
   ]
  },
  {
   "cell_type": "code",
   "execution_count": 34,
   "id": "473dc244-f667-45cc-8694-b26772217367",
   "metadata": {},
   "outputs": [],
   "source": [
    "def circle(*r):\n",
    "    return r"
   ]
  },
  {
   "cell_type": "code",
   "execution_count": 35,
   "id": "cf361418-7572-4780-a64c-bcc4c5650a99",
   "metadata": {},
   "outputs": [
    {
     "data": {
      "text/plain": [
       "(2,)"
      ]
     },
     "execution_count": 35,
     "metadata": {},
     "output_type": "execute_result"
    }
   ],
   "source": [
    "circle(2)"
   ]
  },
  {
   "cell_type": "code",
   "execution_count": 38,
   "id": "dcb4a893-076b-490a-958b-3cdd4df811d2",
   "metadata": {},
   "outputs": [],
   "source": [
    "def data(**r):\n",
    "    return r"
   ]
  },
  {
   "cell_type": "code",
   "execution_count": 39,
   "id": "9a5619e3-fb5e-4054-b823-89aa295f4175",
   "metadata": {},
   "outputs": [
    {
     "data": {
      "text/plain": [
       "{'name': 'balasaheb', 'ssc_marks': '90%', 'hsc_marks': '82'}"
      ]
     },
     "execution_count": 39,
     "metadata": {},
     "output_type": "execute_result"
    }
   ],
   "source": [
    "data(name = 'balasaheb',ssc_marks = '90%',hsc_marks = '82')"
   ]
  },
  {
   "cell_type": "raw",
   "id": "26b2c64d-e350-4ca1-8b02-8f67227eb6af",
   "metadata": {},
   "source": [
    "Q3. What is an iterator in python? Name the method used to initialise the iterator object and the method\n",
    "    used for iteration. Use these methods to print the first five elements of the given list [2, 4, 6, 8, 10, 12,       14,16, 18, 20]."
   ]
  },
  {
   "cell_type": "raw",
   "id": "8c8be4aa-c253-4c7f-82ac-f965137f6821",
   "metadata": {},
   "source": [
    "ans : iterartor is a type of data which allow us to devide itself into smaller data\n",
    "      but we can convert only those data types into iterators which are iterable for eg string\n",
    "      and we cannot convert int into iterators because they are not iterables.\n",
    "      to initialise iterator function we use iter() and to get data we use next(). \n",
    "    "
   ]
  },
  {
   "cell_type": "code",
   "execution_count": 73,
   "id": "664ea160-214f-4bf1-a34b-92f0c70d39b3",
   "metadata": {},
   "outputs": [],
   "source": [
    "l = [2, 4, 6, 8, 10, 12,14,16, 18, 20]"
   ]
  },
  {
   "cell_type": "code",
   "execution_count": 74,
   "id": "7cf8048b-6121-49ca-a6f3-20b105f0a637",
   "metadata": {},
   "outputs": [],
   "source": [
    "l = iter(l)"
   ]
  },
  {
   "cell_type": "code",
   "execution_count": 75,
   "id": "4dca59c5-1e14-48ca-9443-828e425d0ac8",
   "metadata": {},
   "outputs": [
    {
     "data": {
      "text/plain": [
       "(2, 4, 6, 8, 10)"
      ]
     },
     "execution_count": 75,
     "metadata": {},
     "output_type": "execute_result"
    }
   ],
   "source": [
    "next(l),next(l),next(l),next(l),next(l)"
   ]
  },
  {
   "cell_type": "raw",
   "id": "c52090dd-8f0f-418d-9301-6bb047c4d187",
   "metadata": {},
   "source": [
    "Q4. What is a generator function in python? Why yield keyword is used? Give an example of a generator\n",
    "    function."
   ]
  },
  {
   "cell_type": "raw",
   "id": "ba7582be-d2a3-4172-bf52-04c9c499ebce",
   "metadata": {},
   "source": [
    "ans : generator is function in python which helps us to manage large amount of data\n",
    "      which he can generates but unlike print function it does not run infinitly but\n",
    "      it generates data as per our requirement one by one and yield is a keyword which helps \n",
    "      the function to throw the data"
   ]
  },
  {
   "cell_type": "code",
   "execution_count": 2,
   "id": "20e0020e-39ff-4a98-b88b-6bb6ca95f557",
   "metadata": {},
   "outputs": [],
   "source": [
    "def sqr(n):\n",
    "    for i in range(1,n+1):\n",
    "        yield i**2"
   ]
  },
  {
   "cell_type": "code",
   "execution_count": 3,
   "id": "74c0cbb4-6a3c-4f04-9024-1edfa01b638e",
   "metadata": {},
   "outputs": [
    {
     "name": "stdout",
     "output_type": "stream",
     "text": [
      "1 ,4 ,9 ,16 ,25 ,36 ,49 ,64 ,81 ,100 ,"
     ]
    }
   ],
   "source": [
    "for i in sqr(10):\n",
    "    print(i,',',end='')  "
   ]
  },
  {
   "cell_type": "raw",
   "id": "0923a497-bbd1-4c39-9ca0-cbe603e6c3c1",
   "metadata": {},
   "source": [
    "Q5. Create a generator function for prime numbers less than 1000. Use the next() method to print the\n",
    "    first 20 prime numbers."
   ]
  },
  {
   "cell_type": "code",
   "execution_count": 101,
   "id": "f67bb23c-6add-4061-8af2-63703ab986d5",
   "metadata": {},
   "outputs": [],
   "source": [
    "def prime():\n",
    "    for i in range(2,1000):\n",
    "        if i > 1:\n",
    "            for j in range(2, i):\n",
    "                if i % j == 0:\n",
    "                    break\n",
    "            else:\n",
    "                yield i"
   ]
  },
  {
   "cell_type": "code",
   "execution_count": 102,
   "id": "f0e6a93a-392c-415c-bc63-37720e84f795",
   "metadata": {},
   "outputs": [],
   "source": [
    "l= list(prime())"
   ]
  },
  {
   "cell_type": "code",
   "execution_count": 103,
   "id": "024e1057-6920-4f67-9987-aea286e0172f",
   "metadata": {},
   "outputs": [],
   "source": [
    "l=iter(l)"
   ]
  },
  {
   "cell_type": "code",
   "execution_count": 104,
   "id": "bf2d70fc-4d41-44f9-a6ea-d159e3378611",
   "metadata": {},
   "outputs": [
    {
     "data": {
      "text/plain": [
       "(2, 3, 5, 7, 11, 13, 17, 19, 23, 29, 31, 37, 41, 43, 47, 53, 59, 61, 67, 71)"
      ]
     },
     "execution_count": 104,
     "metadata": {},
     "output_type": "execute_result"
    }
   ],
   "source": [
    "next(l),next(l),next(l),next(l),next(l),next(l),next(l),next(l),next(l),next(l),next(l),next(l),next(l),next(l),next(l),next(l),next(l),next(l),next(l),next(l),"
   ]
  },
  {
   "cell_type": "raw",
   "id": "4ed1a410-2096-4c0f-aae6-f7c0e9742c8c",
   "metadata": {},
   "source": [
    "Q6. Write a python program to print the first 10 Fibonacci numbers using a while loop."
   ]
  },
  {
   "cell_type": "code",
   "execution_count": 5,
   "id": "2c8a50a5-e14f-4ad5-9342-fbe866578008",
   "metadata": {},
   "outputs": [
    {
     "name": "stdout",
     "output_type": "stream",
     "text": [
      "0\n",
      "1\n",
      "1\n",
      "2\n",
      "3\n",
      "5\n",
      "8\n",
      "13\n",
      "21\n",
      "34\n",
      "55\n"
     ]
    }
   ],
   "source": [
    "a = 0\n",
    "b = 1\n",
    "i=0\n",
    "while i <= 10:\n",
    "    print(a)\n",
    "    c=a+b\n",
    "    a=b\n",
    "    b=c\n",
    "    i=i+1\n",
    "    "
   ]
  },
  {
   "cell_type": "raw",
   "id": "8c2fbd19-a162-409e-bb2b-b458b13cadc7",
   "metadata": {},
   "source": [
    "Q7. Write a List Comprehension to iterate through the given string: ‘pwskills’.\n",
    "Expected output: ['p', 'w', 's', 'k', 'i', 'l', 'l', 's']"
   ]
  },
  {
   "cell_type": "code",
   "execution_count": 14,
   "id": "beb74988-5648-4088-a9a5-9a2ef492f1b6",
   "metadata": {},
   "outputs": [],
   "source": [
    "s = 'pwskills'"
   ]
  },
  {
   "cell_type": "code",
   "execution_count": 15,
   "id": "7fe2113f-8988-4725-b021-b81de7fb2834",
   "metadata": {},
   "outputs": [
    {
     "data": {
      "text/plain": [
       "['p', 'w', 's', 'k', 'i', 'l', 'l', 's']"
      ]
     },
     "execution_count": 15,
     "metadata": {},
     "output_type": "execute_result"
    }
   ],
   "source": [
    "[i for i in s  ]"
   ]
  },
  {
   "cell_type": "raw",
   "id": "17e8f5cc-cec1-48ee-86fe-64723c5d4618",
   "metadata": {},
   "source": [
    "Q8. Write a python program to check whether a given number is Palindrome or not using a while loop."
   ]
  },
  {
   "cell_type": "code",
   "execution_count": 21,
   "id": "4bb2d4cb-e6dd-4356-9a84-e580460649be",
   "metadata": {},
   "outputs": [
    {
     "name": "stdin",
     "output_type": "stream",
     "text": [
      "enter your number 12345654321\n"
     ]
    },
    {
     "name": "stdout",
     "output_type": "stream",
     "text": [
      "given number is palindrome\n"
     ]
    }
   ],
   "source": [
    "s = input('enter your number')\n",
    "s1 = s[::-1]\n",
    "if s==s1:\n",
    "    print('given number is palindrome')\n",
    "else :\n",
    "    print('given number is not palindrome')"
   ]
  },
  {
   "cell_type": "raw",
   "id": "afdd7e98-2839-4c84-aaef-e807046166ec",
   "metadata": {},
   "source": [
    "Q9. Write a code to print odd numbers from 1 to 100 using list comprehension.\n",
    "    Note: Use a list comprehension to create a list from 1 to 100 and use another List comprehension to filter\n",
    "    out odd numbers."
   ]
  },
  {
   "cell_type": "code",
   "execution_count": 22,
   "id": "f1c4dee1-45d5-4d49-8d83-29862184e3c9",
   "metadata": {},
   "outputs": [],
   "source": [
    "l = list(range(0,101))"
   ]
  },
  {
   "cell_type": "code",
   "execution_count": null,
   "id": "5b5cfd78-2e4f-4a33-9b3b-4e68590d3d56",
   "metadata": {},
   "outputs": [],
   "source": [
    "[i]"
   ]
  }
 ],
 "metadata": {
  "kernelspec": {
   "display_name": "Python 3 (ipykernel)",
   "language": "python",
   "name": "python3"
  },
  "language_info": {
   "codemirror_mode": {
    "name": "ipython",
    "version": 3
   },
   "file_extension": ".py",
   "mimetype": "text/x-python",
   "name": "python",
   "nbconvert_exporter": "python",
   "pygments_lexer": "ipython3",
   "version": "3.10.8"
  }
 },
 "nbformat": 4,
 "nbformat_minor": 5
}
