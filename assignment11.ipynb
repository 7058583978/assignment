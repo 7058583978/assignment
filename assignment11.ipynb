{
 "cells": [
  {
   "cell_type": "code",
   "execution_count": null,
   "id": "b375799e-36f0-4791-a657-c33a425394de",
   "metadata": {},
   "outputs": [],
   "source": [
    "Q1. Which function is used to open a file? What are the different modes of opening a file? Explain each mode\n",
    "    of file opening."
   ]
  },
  {
   "cell_type": "code",
   "execution_count": null,
   "id": "4ce09f20-43e7-4cee-a22e-3a7ed85c96ed",
   "metadata": {},
   "outputs": [],
   "source": [
    "ans] (name of variable = open) function is used to open a file and there are various modes\n",
    "     to open a file \n",
    "    \n",
    "'r'       open for reading \n",
    "'w'       open for writing\n",
    "'x'       create a new file and open it for writing\n",
    "'a'       open for writing, appending to the end of the file if it exists\n",
    "'b'       binary mode\n",
    "'t'       text mode \n",
    "'+'       open a disk file for updating \n",
    "'U'       universal newline mode "
   ]
  },
  {
   "cell_type": "code",
   "execution_count": null,
   "id": "49b1fd19-cbc7-49ff-a536-67a8af84d299",
   "metadata": {},
   "outputs": [],
   "source": [
    "Q2. Why close() function is used? Why is it important to close a file?"
   ]
  },
  {
   "cell_type": "code",
   "execution_count": null,
   "id": "64cb68bc-df1b-470f-92d3-bd8852ad0938",
   "metadata": {},
   "outputs": [],
   "source": [
    "ans] when we write the data using write function it only stores the data\n",
    "     but it did not add into our file when we close the file we can see the the data in our \n",
    "     hence close function is very important......."
   ]
  },
  {
   "cell_type": "code",
   "execution_count": null,
   "id": "3d2b4147-48a5-4faf-be75-4190f04cf64d",
   "metadata": {},
   "outputs": [],
   "source": [
    "Q3. Write a python program to create a text file. Write ‘I want to become a Data Scientist’ in that file. Then\n",
    "    close the file. Open this file and read the content of the file."
   ]
  },
  {
   "cell_type": "code",
   "execution_count": 7,
   "id": "64028703-6adb-4698-9143-95b32d95a552",
   "metadata": {},
   "outputs": [],
   "source": [
    "i = open('dream.txt','w')"
   ]
  },
  {
   "cell_type": "code",
   "execution_count": 8,
   "id": "a5a46e28-ddf6-4b96-ac7d-baeae13cea41",
   "metadata": {},
   "outputs": [
    {
     "data": {
      "text/plain": [
       "33"
      ]
     },
     "execution_count": 8,
     "metadata": {},
     "output_type": "execute_result"
    }
   ],
   "source": [
    "i.write('I want to become a Data Scientist')"
   ]
  },
  {
   "cell_type": "code",
   "execution_count": 9,
   "id": "92ada90f-f681-465f-ad67-3e46298d9e33",
   "metadata": {},
   "outputs": [],
   "source": [
    "i.close()"
   ]
  },
  {
   "cell_type": "code",
   "execution_count": 10,
   "id": "e4731b4e-3b6c-41f7-a4e0-412514d05a87",
   "metadata": {},
   "outputs": [],
   "source": [
    "i = open('dream.txt','r')"
   ]
  },
  {
   "cell_type": "code",
   "execution_count": 11,
   "id": "246701e4-64a4-4864-af64-004a3c2ea22f",
   "metadata": {},
   "outputs": [
    {
     "data": {
      "text/plain": [
       "'I want to become a Data Scientist'"
      ]
     },
     "execution_count": 11,
     "metadata": {},
     "output_type": "execute_result"
    }
   ],
   "source": [
    "i.read()"
   ]
  },
  {
   "cell_type": "code",
   "execution_count": null,
   "id": "3d7ace5e-742e-4586-91bd-cdf3dca1a096",
   "metadata": {},
   "outputs": [],
   "source": [
    "Q4. Explain the following with python code: read(), readline() and readlines()."
   ]
  },
  {
   "cell_type": "code",
   "execution_count": null,
   "id": "78fad29e-24ca-4cbc-9fa4-afaa45738fcb",
   "metadata": {},
   "outputs": [],
   "source": [
    "ans] read() : is used to read the context of the file we have to just write the function\n",
    "     as varible.read() then our file is ready to read"
   ]
  },
  {
   "cell_type": "code",
   "execution_count": null,
   "id": "383ccd50-1c17-41a7-ae55-5a2e74e46490",
   "metadata": {},
   "outputs": [],
   "source": [
    "readline : read line also used to read the data until  newline come"
   ]
  },
  {
   "cell_type": "code",
   "execution_count": 12,
   "id": "6e90ee32-a369-4d09-92c0-5a8b7b696a83",
   "metadata": {},
   "outputs": [],
   "source": [
    "newline = open('bala.txt','w')"
   ]
  },
  {
   "cell_type": "code",
   "execution_count": 13,
   "id": "58a64e9a-676e-4c97-8d5c-dc686063d617",
   "metadata": {},
   "outputs": [
    {
     "data": {
      "text/plain": [
       "74"
      ]
     },
     "execution_count": 13,
     "metadata": {},
     "output_type": "execute_result"
    }
   ],
   "source": [
    "newline.write('my name is balasaheb.'\n",
    "              'i want to become data scientist.'\n",
    "             'this is my dream job.')"
   ]
  },
  {
   "cell_type": "code",
   "execution_count": 14,
   "id": "499d6844-f249-4970-ad35-3771424bb679",
   "metadata": {},
   "outputs": [],
   "source": [
    "newline.close()"
   ]
  },
  {
   "cell_type": "code",
   "execution_count": 15,
   "id": "08200b32-0ffd-4c66-ad6d-7aa304c15d77",
   "metadata": {},
   "outputs": [],
   "source": [
    "newline = open('bala.txt','r')"
   ]
  },
  {
   "cell_type": "code",
   "execution_count": 16,
   "id": "ecc0512f-625a-49c8-b4ee-e3ea2b45f4c2",
   "metadata": {},
   "outputs": [
    {
     "data": {
      "text/plain": [
       "'my name is balasaheb.i want to become data scientist.this is my dream job.'"
      ]
     },
     "execution_count": 16,
     "metadata": {},
     "output_type": "execute_result"
    }
   ],
   "source": [
    "newline.readline()"
   ]
  },
  {
   "cell_type": "code",
   "execution_count": null,
   "id": "b48e2def-7c59-42f2-8c40-96c101ff7c61",
   "metadata": {},
   "outputs": [],
   "source": [
    "readlines : readlines provides a data in list form "
   ]
  },
  {
   "cell_type": "code",
   "execution_count": 17,
   "id": "4745cee4-d5c1-437a-ba90-56ff8267c8c4",
   "metadata": {},
   "outputs": [],
   "source": [
    "newline = open('bala.txt','r')"
   ]
  },
  {
   "cell_type": "code",
   "execution_count": 18,
   "id": "4afcbd74-a6bd-41cc-985a-89bbd1474010",
   "metadata": {},
   "outputs": [
    {
     "data": {
      "text/plain": [
       "['my name is balasaheb.i want to become data scientist.this is my dream job.']"
      ]
     },
     "execution_count": 18,
     "metadata": {},
     "output_type": "execute_result"
    }
   ],
   "source": [
    "newline.readlines()"
   ]
  },
  {
   "cell_type": "code",
   "execution_count": null,
   "id": "b812664a-5153-40b0-b58a-7b5175b16591",
   "metadata": {},
   "outputs": [],
   "source": [
    "Q5. Explain why with statement is used with open(). What is the advantage of using with statement and\n",
    "    open() together?"
   ]
  },
  {
   "cell_type": "code",
   "execution_count": null,
   "id": "c80ec39e-0f76-4752-9935-5b097536d5da",
   "metadata": {},
   "outputs": [],
   "source": [
    "ans] the format of with statement is as follows the advantage of using with statement\n",
    "     is that we do not need to close the file it automatically close the file when exit the sentence\n",
    "     and hence lot of errors can minimized because one can easily forget to close the file"
   ]
  },
  {
   "cell_type": "code",
   "execution_count": 25,
   "id": "b7812c5e-b2fd-4c35-8d90-39522b90a77f",
   "metadata": {},
   "outputs": [],
   "source": [
    "with open('amol.txt','w') as f :\n",
    "    f.write('i want to become the data scientist')"
   ]
  },
  {
   "cell_type": "code",
   "execution_count": 28,
   "id": "2464bfbe-93fd-4d96-aac9-6c619e4885c9",
   "metadata": {},
   "outputs": [
    {
     "name": "stdout",
     "output_type": "stream",
     "text": [
      "i want to become the data scientist\n"
     ]
    }
   ],
   "source": [
    "with open('amol.txt','r') as f :\n",
    "    print(f.read())"
   ]
  },
  {
   "cell_type": "code",
   "execution_count": null,
   "id": "c48829a4-8ea6-466f-afe3-9055f9b241d0",
   "metadata": {},
   "outputs": [],
   "source": [
    "so here you can see we do not need to close the file "
   ]
  },
  {
   "cell_type": "code",
   "execution_count": null,
   "id": "bcccc295-f000-43c4-a396-2c77f11a3a49",
   "metadata": {},
   "outputs": [],
   "source": [
    "Q6. Explain the write() and writelines() functions. Give a suitable example."
   ]
  },
  {
   "cell_type": "code",
   "execution_count": null,
   "id": "bf187197-8ea7-4074-a7ac-fad7f23fe540",
   "metadata": {},
   "outputs": [],
   "source": [
    "ans] write() is used to insert the data in file in continuous mode while writelines() allow us \n",
    "    to write the data in list format or tuple format or any sequential manner"
   ]
  },
  {
   "cell_type": "code",
   "execution_count": 79,
   "id": "f29b4c34-974e-4191-bdd4-b7cb056e0b16",
   "metadata": {},
   "outputs": [],
   "source": [
    "a = open('intro.txt','w')"
   ]
  },
  {
   "cell_type": "code",
   "execution_count": 80,
   "id": "10cf2b1b-2bb2-4f9f-b2ba-2e44d0fb4118",
   "metadata": {},
   "outputs": [],
   "source": [
    "a.writelines(['my name is balasaheb bhosale','i have studied BE civil','my dream is to become data scientist'])"
   ]
  },
  {
   "cell_type": "code",
   "execution_count": 81,
   "id": "681f7c2b-3434-46d6-a8a1-93fd9373c4db",
   "metadata": {},
   "outputs": [],
   "source": [
    "a.close()"
   ]
  },
  {
   "cell_type": "code",
   "execution_count": 82,
   "id": "a2555933-6bc4-4e90-b6a1-37b579195337",
   "metadata": {},
   "outputs": [],
   "source": [
    "a = open('intro.txt','r')"
   ]
  },
  {
   "cell_type": "code",
   "execution_count": 83,
   "id": "55f796c8-be58-4232-96ff-e069c2cadab6",
   "metadata": {},
   "outputs": [
    {
     "data": {
      "text/plain": [
       "'my name is balasaheb bhosalei have studied BE civilmy dream is to become data scientist'"
      ]
     },
     "execution_count": 83,
     "metadata": {},
     "output_type": "execute_result"
    }
   ],
   "source": [
    "a.read()"
   ]
  },
  {
   "cell_type": "code",
   "execution_count": null,
   "id": "5198e7b9-03b2-4b39-a7f1-389af8a09d3f",
   "metadata": {},
   "outputs": [],
   "source": []
  },
  {
   "cell_type": "code",
   "execution_count": null,
   "id": "1cb05a1d-aab2-449d-8a59-fb3dd87e8ae4",
   "metadata": {},
   "outputs": [],
   "source": []
  }
 ],
 "metadata": {
  "kernelspec": {
   "display_name": "Python 3 (ipykernel)",
   "language": "python",
   "name": "python3"
  },
  "language_info": {
   "codemirror_mode": {
    "name": "ipython",
    "version": 3
   },
   "file_extension": ".py",
   "mimetype": "text/x-python",
   "name": "python",
   "nbconvert_exporter": "python",
   "pygments_lexer": "ipython3",
   "version": "3.10.8"
  }
 },
 "nbformat": 4,
 "nbformat_minor": 5
}
