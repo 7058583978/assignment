{
 "cells": [
  {
   "cell_type": "code",
   "execution_count": null,
   "id": "65e49554-6eaa-46b0-a524-207504b9c4e0",
   "metadata": {},
   "outputs": [],
   "source": [
    "Q1. Explain why we have to use the Exception class while creating a Custom Exception."
   ]
  },
  {
   "cell_type": "code",
   "execution_count": null,
   "id": "e4a3edad-8194-47d3-9e7d-c0b0527ca434",
   "metadata": {},
   "outputs": [],
   "source": [
    "ans] in case custom exception we need to create our own function to raise exception so\n",
    "     for our new function to execute we have to inherite the property of exception \n",
    "     class which is a built up function in python"
   ]
  },
  {
   "cell_type": "code",
   "execution_count": null,
   "id": "027e952a-a5a9-4b2e-9909-961f4a6a4cee",
   "metadata": {},
   "outputs": [],
   "source": [
    "Q2. Write a python program to print Python Exception Hierarchy."
   ]
  },
  {
   "cell_type": "code",
   "execution_count": 1,
   "id": "98ac185e-9562-4905-8c71-fd11ce8c8218",
   "metadata": {},
   "outputs": [
    {
     "name": "stdin",
     "output_type": "stream",
     "text": [
      "enter your number 3\n"
     ]
    },
    {
     "name": "stdout",
     "output_type": "stream",
     "text": [
      "27\n",
      "you got thr cube of your number\n",
      "the function your working is a cube returning function i hope you got the result\n"
     ]
    }
   ],
   "source": [
    "try :\n",
    "    input_n = int(input('enter your number'))\n",
    "    print(input_n**3)\n",
    "except Exception as e :\n",
    "    print('please check the input')\n",
    "else :\n",
    "    print('you got the cube of your number')\n",
    "finally :\n",
    "    print('the function your working is a cube returning function i hope you got the result')\n",
    "\n",
    "#in above programme we have used the three hierarchy of try block so our input is correct thats why\n",
    "#except block diddnt work lets see what happens if we enter wrong input\n",
    "    \n",
    "    "
   ]
  },
  {
   "cell_type": "code",
   "execution_count": 2,
   "id": "8c249719-f7f5-47c7-8f35-03596755dd17",
   "metadata": {},
   "outputs": [
    {
     "name": "stdin",
     "output_type": "stream",
     "text": [
      "enter your number bala\n"
     ]
    },
    {
     "name": "stdout",
     "output_type": "stream",
     "text": [
      "please check the input\n",
      "the function your working is a cube returning function i hope you got the result\n"
     ]
    }
   ],
   "source": [
    "try :\n",
    "    input_n = int(input('enter your number'))\n",
    "    print(input_n**3)\n",
    "except Exception as e :\n",
    "    print('please check the input')\n",
    "else :\n",
    "    print('you got the cube of your number')\n",
    "finally :\n",
    "    print('the function your working is a cube returning function i hope you got the result')\n",
    "\n",
    "#so here we enter string whose cube cannot be done so exception raises"
   ]
  },
  {
   "cell_type": "code",
   "execution_count": null,
   "id": "8a88dfc9-eb55-4957-9a35-e976e890d19a",
   "metadata": {},
   "outputs": [],
   "source": [
    "Q3. What errors are defined in the ArithmeticError class? Explain any two with an example."
   ]
  },
  {
   "cell_type": "code",
   "execution_count": null,
   "id": "6288fc98-fe28-4a1c-ac0a-a77553e64e08",
   "metadata": {},
   "outputs": [],
   "source": [
    "ans]there are three types of errors in ArithmeticError which are\n",
    "1.ZeroDivisionError\n",
    "2.OverFlowError\n",
    "3.FloatingPointError\n"
   ]
  },
  {
   "cell_type": "code",
   "execution_count": 19,
   "id": "743a91e5-26b7-4815-9850-c196f6c3acfa",
   "metadata": {},
   "outputs": [
    {
     "name": "stdin",
     "output_type": "stream",
     "text": [
      "enter numerator 2\n",
      "enter denominator 0\n"
     ]
    },
    {
     "name": "stdout",
     "output_type": "stream",
     "text": [
      "float division by zero\n"
     ]
    }
   ],
   "source": [
    "#1 zerodivisionerror\n",
    "try :\n",
    "    num1 = float(input('enter numerator'))\n",
    "    num2 = float(input('enter denominator'))\n",
    "    print(num1/num2)\n",
    "except ZeroDivisionError as e :\n",
    "    print(e)\n",
    "    \n",
    "#when we devide a number we gety zerodivision error but by putting into try block our programme run smoothly"
   ]
  },
  {
   "cell_type": "code",
   "execution_count": 6,
   "id": "3ef3d1d8-9ab8-49b6-b3f9-54920eb8572a",
   "metadata": {},
   "outputs": [
    {
     "name": "stdout",
     "output_type": "stream",
     "text": [
      "5.0\n",
      "25.0\n",
      "15625.0\n",
      "5.960464477539062e+16\n",
      "7.52316384526264e+83\n",
      "(34, 'Numerical result out of range')\n"
     ]
    }
   ],
   "source": [
    "#2 overflow error\n",
    "j = 5.0\n",
    "try :\n",
    "    for i in range(1, 1000):\n",
    "        j = j**i\n",
    "        print(j)\n",
    "except OverflowError as e :\n",
    "    print(e)\n",
    "\n",
    "#when value after calculation is too long then overflow error occurs by putting into try \n",
    "#blpck we can handle the error"
   ]
  },
  {
   "cell_type": "code",
   "execution_count": null,
   "id": "e36b2909-c011-4d24-b550-400d58e36525",
   "metadata": {},
   "outputs": [],
   "source": [
    "Q4. Why LookupError class is used? Explain with an example KeyError and IndexError."
   ]
  },
  {
   "cell_type": "code",
   "execution_count": null,
   "id": "9b2072fd-b4de-40b4-8010-643a1acd83d4",
   "metadata": {},
   "outputs": [],
   "source": [
    "ans]lookuperror consist of key error and index error in cases where user have the probability that\n",
    "    user can enter the input which is out of range or say in case of dictionary user enter wrong key\n",
    "    which does not exist then lookuperror came into operation"
   ]
  },
  {
   "cell_type": "code",
   "execution_count": 8,
   "id": "c7c65747-5b6f-41be-aad0-f07e219023e6",
   "metadata": {},
   "outputs": [
    {
     "name": "stdout",
     "output_type": "stream",
     "text": [
      "list index out of range\n"
     ]
    }
   ],
   "source": [
    "l = [1,4,9,16,25,36,{'maharashtra':'mumbai','tamilnadu':'chennai'}]\n",
    "\n",
    "try :\n",
    "    print(l[10])\n",
    "except LookupError as e :\n",
    "    print(e)"
   ]
  },
  {
   "cell_type": "code",
   "execution_count": 11,
   "id": "57f0dbdc-cb49-48e4-8f2d-bd57944bdf4f",
   "metadata": {},
   "outputs": [],
   "source": [
    "s = {'maharashtra':'mumbai','tamilnadu':'chennai'}"
   ]
  },
  {
   "cell_type": "code",
   "execution_count": 20,
   "id": "1e616bdd-f274-4e35-b689-e6a21c88a619",
   "metadata": {},
   "outputs": [
    {
     "name": "stdout",
     "output_type": "stream",
     "text": [
      "if there is error it will give you same input 'madhyapradesh'\n"
     ]
    }
   ],
   "source": [
    "try :\n",
    "    print(s['madhyapradesh'])\n",
    "except LookupError as e :\n",
    "    print('if there is error it will give you same input',e)"
   ]
  },
  {
   "cell_type": "code",
   "execution_count": null,
   "id": "5190cfb5-a4ef-4433-86f7-fc7d0bd07666",
   "metadata": {},
   "outputs": [],
   "source": [
    "Q5. Explain ImportError. What is ModuleNotFoundError?"
   ]
  },
  {
   "cell_type": "code",
   "execution_count": null,
   "id": "811685e1-ac29-4ca1-9c6b-f0f326114623",
   "metadata": {},
   "outputs": [],
   "source": [
    "ans]import error means error occurs due to calling a module which does not exist in\n",
    "   python "
   ]
  },
  {
   "cell_type": "code",
   "execution_count": 26,
   "id": "a7d376dd-699a-4ca1-b656-91337d61cba9",
   "metadata": {},
   "outputs": [
    {
     "ename": "ModuleNotFoundError",
     "evalue": "No module named 'loging'",
     "output_type": "error",
     "traceback": [
      "\u001b[0;31m---------------------------------------------------------------------------\u001b[0m",
      "\u001b[0;31mModuleNotFoundError\u001b[0m                       Traceback (most recent call last)",
      "Cell \u001b[0;32mIn[26], line 1\u001b[0m\n\u001b[0;32m----> 1\u001b[0m \u001b[38;5;28;01mimport\u001b[39;00m \u001b[38;5;21;01mloging\u001b[39;00m\n",
      "\u001b[0;31mModuleNotFoundError\u001b[0m: No module named 'loging'"
     ]
    }
   ],
   "source": [
    "import loging"
   ]
  },
  {
   "cell_type": "code",
   "execution_count": null,
   "id": "d8a23dcf-eb56-486c-9b8d-b081cc8b4002",
   "metadata": {},
   "outputs": [],
   "source": [
    "so in above programme we enter wrong spelling so of module it gives error"
   ]
  },
  {
   "cell_type": "code",
   "execution_count": null,
   "id": "5b62cf5e-5244-47c5-b712-9429298c812b",
   "metadata": {},
   "outputs": [],
   "source": [
    "Q6. List down some best practices for exception handling in python."
   ]
  },
  {
   "cell_type": "code",
   "execution_count": null,
   "id": "faa69d06-df5f-483d-87b4-bea1c936af74",
   "metadata": {},
   "outputs": [],
   "source": [
    "1.try and except\n",
    "2.try except and finally\n",
    "3.custom exception\n",
    "4.catch and throw \n",
    "5.error defining exceptions"
   ]
  }
 ],
 "metadata": {
  "kernelspec": {
   "display_name": "Python 3 (ipykernel)",
   "language": "python",
   "name": "python3"
  },
  "language_info": {
   "codemirror_mode": {
    "name": "ipython",
    "version": 3
   },
   "file_extension": ".py",
   "mimetype": "text/x-python",
   "name": "python",
   "nbconvert_exporter": "python",
   "pygments_lexer": "ipython3",
   "version": "3.10.8"
  }
 },
 "nbformat": 4,
 "nbformat_minor": 5
}
